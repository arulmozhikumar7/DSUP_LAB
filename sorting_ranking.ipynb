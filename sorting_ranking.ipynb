{
 "cells": [
  {
   "cell_type": "code",
   "execution_count": 6,
   "id": "65aa5321-0300-49f8-929c-6b137b9689b0",
   "metadata": {},
   "outputs": [
    {
     "name": "stdout",
     "output_type": "stream",
     "text": [
      "Requirement already satisfied: pandas in /home/arul/jupyterenv/lib/python3.11/site-packages (2.2.3)\n",
      "Requirement already satisfied: numpy>=1.23.2 in /home/arul/jupyterenv/lib/python3.11/site-packages (from pandas) (2.1.2)\n",
      "Requirement already satisfied: python-dateutil>=2.8.2 in /home/arul/jupyterenv/lib/python3.11/site-packages (from pandas) (2.9.0.post0)\n",
      "Requirement already satisfied: pytz>=2020.1 in /home/arul/jupyterenv/lib/python3.11/site-packages (from pandas) (2024.2)\n",
      "Requirement already satisfied: tzdata>=2022.7 in /home/arul/jupyterenv/lib/python3.11/site-packages (from pandas) (2024.2)\n",
      "Requirement already satisfied: six>=1.5 in /home/arul/jupyterenv/lib/python3.11/site-packages (from python-dateutil>=2.8.2->pandas) (1.16.0)\n",
      "Note: you may need to restart the kernel to use updated packages.\n"
     ]
    }
   ],
   "source": [
    "pip install pandas"
   ]
  },
  {
   "cell_type": "code",
   "execution_count": 12,
   "id": "ad260b31-d56e-4dc3-b5a0-bb27fee37c7d",
   "metadata": {},
   "outputs": [
    {
     "name": "stdout",
     "output_type": "stream",
     "text": [
      "Before Sorting: \n",
      "  people age\n",
      "0    abc  30\n",
      "1    def  23\n",
      "2    ghi  32\n",
      "3    jkl  40\n",
      "After Sorting\n",
      "  people age\n",
      "1    def  23\n",
      "0    abc  30\n",
      "2    ghi  32\n",
      "3    jkl  40\n"
     ]
    }
   ],
   "source": [
    "import pandas as pd\n",
    "\n",
    "data = {\n",
    "'people':['abc','def','ghi','jkl'],\n",
    "'age':['30','23','32','40']\n",
    "}\n",
    "df = pd.DataFrame(data);\n",
    "print(\"Before Sorting: \")\n",
    "print(df)\n",
    "\n",
    "#Sorting \n",
    "sorted_df = df.sort_values(by='age')\n",
    "print(\"After Sorting\")\n",
    "print(sorted_df)"
   ]
  },
  {
   "cell_type": "code",
   "execution_count": 14,
   "id": "3c9c08c9-0e52-445a-9051-0606f064a57f",
   "metadata": {},
   "outputs": [
    {
     "name": "stdout",
     "output_type": "stream",
     "text": [
      "  name mark  rank\n",
      "0  abc   90   2.0\n",
      "1  def   95   3.0\n",
      "2  ghi   88   1.0\n",
      "  name mark  rank\n",
      "0  abc   90   2.0\n",
      "1  def   95   1.0\n",
      "2  ghi   88   3.0\n"
     ]
    }
   ],
   "source": [
    "import pandas as py\n",
    "\n",
    "data = {\n",
    "'name':['abc','def','ghi'],\n",
    "'mark':['90','95','88']\n",
    "}\n",
    "\n",
    "df = pd.DataFrame(data)\n",
    "#Ranking in Ascending order\n",
    "df[\"rank\"] = df[\"mark\"].rank()\n",
    "print(df)\n",
    "#Ranking in Descending order\n",
    "df[\"rank\"] = df[\"mark\"].rank(ascending=False)\n",
    "print(df)"
   ]
  }
 ],
 "metadata": {
  "kernelspec": {
   "display_name": "Python 3 (ipykernel)",
   "language": "python",
   "name": "python3"
  },
  "language_info": {
   "codemirror_mode": {
    "name": "ipython",
    "version": 3
   },
   "file_extension": ".py",
   "mimetype": "text/x-python",
   "name": "python",
   "nbconvert_exporter": "python",
   "pygments_lexer": "ipython3",
   "version": "3.11.2"
  }
 },
 "nbformat": 4,
 "nbformat_minor": 5
}
